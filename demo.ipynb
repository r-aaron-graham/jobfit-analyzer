```json
{
 "cells": [
  {
   "cell_type": "markdown",
   "metadata": {},
   "source": [
    "# Job Matcher Demo\n",
    "\n",
    "This notebook demonstrates how to use the `job_matcher` module interactively."
   ]
  },
  {
   "cell_type": "code",
   "metadata": {},
   "source": [
    "# Install dependencies (run once)\n",
    "!pip install -U textblob"
   ]
  },
  {
   "cell_type": "code",
   "metadata": {},
   "source": [
    "# Import the match_score function\n",
    "from job_matcher import match_score\n",
    "import json\n"
   ]
  },
  {
   "cell_type": "code",
   "metadata": {},
   "source": [
    "# Define example job description\n",
    "job_desc = '''\n",
    "We are looking for an innovative and driven data scientist.\n",
    "Skills:\n",
    "Python, Pandas, Machine Learning, SQL, Docker\n",
    "Remote-friendly role for a collaborative team.\n",
    "'''"
   ]
  },
  {
   "cell_type": "code",
   "metadata": {},
   "source": [
    "# Define example user profile\n",
    "profile = {
",
    "    'skills': ['Python', 'Machine Learning', 'SQL'],",
    "    'values': ['innovative', 'collaborative'],",
    "    'remote_preference': True",
    "}  
",
    "profile_json = json.dumps(profile)"
   ]
  },
  {
   "cell_type": "code",
   "metadata": {},
   "source": [
    "# Compute match and display results\n",
    "result = match_score(job_desc, profile_json)\n",
    "print(f\"Match score: {result['score']}/100\")\n",
    "for reason in result['reasons']:\n",
    "    print('- ', reason)"
   ]
  }
 ],
 "metadata": {
  "kernelspec": {
   "display_name": "Python 3",
   "language": "python",
   "name": "python3"
  },
  "language_info": {
   "name": "python"
  }
 },
 "nbformat": 4,
 "nbformat_minor": 5
}
```
